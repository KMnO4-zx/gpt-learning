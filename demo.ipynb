{
 "cells": [
  {
   "cell_type": "code",
   "execution_count": 1,
   "id": "9f8cb0e4-4269-43fc-8192-d46c84a68024",
   "metadata": {},
   "outputs": [],
   "source": [
    "import requests\n",
    "import json\n",
    "from IPython.display import Markdown"
   ]
  },
  {
   "cell_type": "markdown",
   "id": "f34d7ed3-8be0-499d-80ca-f3bd9db3601c",
   "metadata": {},
   "source": [
    "```\n",
    "curl -X POST \"http://127.0.0.1:8000\" \\\n",
    "     -H 'Content-Type: application/json' \\\n",
    "     -d '{\"prompt\": \"你好\", \"history\": []}'\n",
    "```"
   ]
  },
  {
   "cell_type": "code",
   "execution_count": 2,
   "id": "c2e35a25-51e6-4ac6-9f04-d86872bae9c1",
   "metadata": {},
   "outputs": [
    {
     "data": {
      "text/plain": [
       "{'response': '你好👋!我是人工智能助手 ChatGLM-6B,很高兴见到你,欢迎问我任何问题。',\n",
       " 'history': [['你好', '你好👋!我是人工智能助手 ChatGLM-6B,很高兴见到你,欢迎问我任何问题。']],\n",
       " 'status': 200,\n",
       " 'time': '2023-05-20 11:16:33'}"
      ]
     },
     "execution_count": 2,
     "metadata": {},
     "output_type": "execute_result"
    }
   ],
   "source": [
    "headers = {'Content-Type': 'application/json'}\n",
    "data = {\"prompt\": \"你好\", \"history\": []}\n",
    "\n",
    "response = requests.post(url='http://127.0.0.1:8000', headers=headers, data=json.dumps(data))\n",
    "response.json()"
   ]
  },
  {
   "cell_type": "code",
   "execution_count": 3,
   "id": "32f84e2b-8fdc-4c83-be74-d888740c1008",
   "metadata": {},
   "outputs": [],
   "source": [
    "def get_completion(prompt):\n",
    "    headers = {'Content-Type': 'application/json'}\n",
    "    data = {\"prompt\": prompt, \"history\": []}\n",
    "    response = requests.post(url='http://127.0.0.1:8000', headers=headers, data=json.dumps(data))\n",
    "    return response.json()['response']"
   ]
  },
  {
   "cell_type": "code",
   "execution_count": 4,
   "id": "1a4cf7d6-1bfe-42ae-a550-0de68bd4d519",
   "metadata": {},
   "outputs": [
    {
     "data": {
      "text/plain": [
       "'你好!很高兴见到你。'"
      ]
     },
     "execution_count": 4,
     "metadata": {},
     "output_type": "execute_result"
    }
   ],
   "source": [
    "get_completion('你好呀~')"
   ]
  },
  {
   "cell_type": "markdown",
   "id": "cab1aa13-7b0e-4c3e-99ad-7b2cc458879c",
   "metadata": {},
   "source": [
    "## 代码大师"
   ]
  },
  {
   "cell_type": "code",
   "execution_count": 5,
   "id": "07ad4e84-05be-4cfe-a04c-44db6117dd7a",
   "metadata": {},
   "outputs": [
    {
     "data": {
      "text/markdown": [
       "这段代码是一个STL容器(Standard Template Library container)的初始化代码,其中使用了模板类<int>类型的容器类型 std::vector 和构造函数 std::vector<int> v = (2, 15, 1, 8, 3); 来创建一个包含五个整数的 std::vector 容器,容器的第一个元素为 2,其他四个元素分别为 15、1、8 和 3。\n",
       "\n",
       "在这段代码中,第一个引号括起来的代码是STL容器类型的定义,它是一个声明,告诉编译器 std::vector 是一个STL容器类。这个声明还告诉编译器在后续的代码中可以使用这个容器类,包括使用它的成员函数和构造函数来创建容器和操作容器中的元素。\n",
       "\n",
       "第二个引号括起来的代码是 std::vector<int> 的构造函数的参数列表。这个构造函数接受五个参数,第一个参数是 2,表示容器的第一个元素,其他四个参数分别表示容器的其他四个元素,即 15、1、8 和 3。\n",
       "\n",
       "第三个引号括起来的代码是 std::vector<int> 的赋值语句,将一个整数类型的变量 v 赋值给 std::vector<int> 容器。这个赋值语句使用了 = 运算符,表示将容器的第一个元素 2 赋值给变量 v。"
      ],
      "text/plain": [
       "<IPython.core.display.Markdown object>"
      ]
     },
     "execution_count": 5,
     "metadata": {},
     "output_type": "execute_result"
    }
   ],
   "source": [
    "text=f\"\"\"std::vector<int> v = {2, 15, 1, 8, 3};\"\"\"\n",
    "prompt = f\"\"\"\n",
    "我希望你能充当代码解释者，帮我阐明下面三个引号括起来的代码的语法和语义。使用markdown格式回复我。\\。\n",
    "\\\"\\\"\\\"{text}\\\"\\\"\\\"\n",
    "\"\"\"\n",
    "response = get_completion(prompt)\n",
    "Markdown(response)"
   ]
  },
  {
   "cell_type": "code",
   "execution_count": 6,
   "id": "c54f3b81-c733-4fac-b6c1-65af20d1f85c",
   "metadata": {},
   "outputs": [],
   "source": [
    "def code_master(code):\n",
    "    # text=f\"\"\"std::vector<int> v = {2, 15, 1, 8, 3};\"\"\"\n",
    "    prompt = f\"\"\"\n",
    "    我希望你能充当代码解释者，帮我阐明下面三个引号括起来的代码的语法和语义。使用markdown格式回复我。\\。\n",
    "    \\\"\\\"\\\"{code}\\\"\\\"\\\"\n",
    "    \"\"\"\n",
    "    response = get_completion(prompt)\n",
    "    return response"
   ]
  },
  {
   "cell_type": "code",
   "execution_count": 7,
   "id": "48d72db9-0fa7-40c1-995d-f83d7a98debc",
   "metadata": {},
   "outputs": [
    {
     "data": {
      "text/markdown": [
       "这段代码使用了Python的`requests`库发送HTTP请求,并使用了`json.dumps()`函数将JSON数据转换为字符串格式发送。\n",
       "\n",
       "首先,三个引号括起来的代码中,第一个引号是一个字符串格式化指令,用于指定请求的URL。第二个引号是一个参数格式化指令,用于指定请求的参数。第三个引号是一个参数格式化指令,用于指定请求的数据。这些参数将被传递给`requests.post()`函数,该函数用于发送HTTP请求。\n",
       "\n",
       "因此,完整的代码如下:\n",
       "\n",
       "```python\n",
       "import requests\n",
       "\n",
       "headers = {\n",
       "    'User-Agent': 'Mozilla/5.0 (Windows NT 10.0; Win64; x64) AppleWebKit/537.36 (KHTML, like Gecko) Chrome/58.0.3029.110 Safari/537.3'}\n",
       "data = '这是请求的数据'\n",
       "\n",
       "requests.post(url='http://127.0.0.1:8000', headers=headers, data=json.dumps(data))\n",
       "```\n",
       "\n",
       "这段代码将一个JSON对象作为请求的数据,并将其传递给`requests.post()`函数,该函数用于发送HTTP请求。在函数内部,它将检查请求的参数是否与请求的数据匹配,并将它们替换为正确的参数。"
      ],
      "text/plain": [
       "<IPython.core.display.Markdown object>"
      ]
     },
     "execution_count": 7,
     "metadata": {},
     "output_type": "execute_result"
    }
   ],
   "source": [
    "res = code_master(\"requests.post(url='http://127.0.0.1:8000', headers=headers, data=json.dumps(data))\")\n",
    "Markdown(res)"
   ]
  },
  {
   "cell_type": "markdown",
   "id": "b385f06f-9e7c-4e4e-99ee-fe317355c6f5",
   "metadata": {},
   "source": [
    "## 诗人"
   ]
  },
  {
   "cell_type": "code",
   "execution_count": 8,
   "id": "13bcd2dd-e163-42fc-b6c8-961809df3036",
   "metadata": {},
   "outputs": [
    {
     "data": {
      "text/markdown": [
       "杨柳依依,似与微风共舞,\n",
       "青丝柔条,婀娜多姿,\n",
       "轻风拂面,翩翩起舞,\n",
       "柔声细语,如此温柔。\n",
       "\n",
       "河水潺潺,流淌不尽,\n",
       "倒影在水中,如诗如画,\n",
       "垂柳低垂,似把长发披散,\n",
       "微风拂过,轻柔如梦。\n",
       "\n",
       "繁华落尽,依旧如此美丽,\n",
       "历经岁月,依旧动人心魄,\n",
       "杨柳依依,见证着世间的变迁,\n",
       "永恒的美丽,永不褪色的诗篇。"
      ],
      "text/plain": [
       "<IPython.core.display.Markdown object>"
      ]
     },
     "execution_count": 8,
     "metadata": {},
     "output_type": "execute_result"
    }
   ],
   "source": [
    "text = \"杨柳依依\"\n",
    "prompt = f\"\"\"\n",
    "    我希望你能作为一个诗人。你要创作出能唤起人们情感并有力量搅动人们灵魂的诗篇。\\\n",
    "    写任何话题或主题，但要确保你的文字以美丽而有意义的方式传达你所要表达的感觉。你也可以想出一些短小的诗句，\\\n",
    "    但仍有足够的力量在读者心中留下印记。请用下面三个引号括起来的文本，创作一首古诗，使用markdown格式回复我。\\。\n",
    "    \\\"\\\"\\\"{text}\\\"\\\"\\\"\n",
    "    \"\"\"\n",
    "\n",
    "Markdown(get_completion(prompt))"
   ]
  },
  {
   "cell_type": "code",
   "execution_count": 9,
   "id": "84b6d692-86be-49ac-a3ad-67944bc41f47",
   "metadata": {},
   "outputs": [],
   "source": [
    "def poet(text):\n",
    "    prompt = f\"\"\"\n",
    "        我希望你能作为一个诗人。你要创作出能唤起人们情感并有力量搅动人们灵魂的诗篇。\\\n",
    "        写任何话题或主题，但要确保你的文字以美丽而有意义的方式传达你所要表达的感觉。你也可以想出一些短小的诗句，\\\n",
    "        但仍有足够的力量在读者心中留下印记。请用下面三个引号括起来的文本，创作一首古诗，使用markdown格式回复我。\\。\n",
    "        \\\"\\\"\\\"{text}\\\"\\\"\\\"\n",
    "        \"\"\"\n",
    "    return get_completion(prompt)"
   ]
  },
  {
   "cell_type": "code",
   "execution_count": 10,
   "id": "67d56a2f-dd40-4293-b328-2f493d18da9e",
   "metadata": {},
   "outputs": [
    {
     "data": {
      "text/markdown": [
       "```\n",
       "此时夕阳仍在柳,\n",
       "几许微风拂面来。\n",
       "落叶纷飞飘舞处,\n",
       "留连思绪任徘徊。\n",
       "```\n",
       "\n",
       "希望这首诗能够唤起您的灵感,为读者带来美的享受和力量搅动他们灵魂的感受。如果您有其他的话题或主题想要创作,请随时告诉我,我会尽力为您提供一些帮助。"
      ],
      "text/plain": [
       "<IPython.core.display.Markdown object>"
      ]
     },
     "execution_count": 10,
     "metadata": {},
     "output_type": "execute_result"
    }
   ],
   "source": [
    "Markdown(poet('此时夕阳仍在柳'))"
   ]
  }
 ],
 "metadata": {
  "kernelspec": {
   "display_name": "Python 3 (ipykernel)",
   "language": "python",
   "name": "python3"
  },
  "language_info": {
   "codemirror_mode": {
    "name": "ipython",
    "version": 3
   },
   "file_extension": ".py",
   "mimetype": "text/x-python",
   "name": "python",
   "nbconvert_exporter": "python",
   "pygments_lexer": "ipython3",
   "version": "3.8.10"
  }
 },
 "nbformat": 4,
 "nbformat_minor": 5
}
