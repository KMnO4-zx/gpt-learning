{
 "cells": [
  {
   "cell_type": "code",
   "execution_count": 1,
   "id": "609b7943-b9d8-436a-b2aa-cdaf6eae6aaa",
   "metadata": {},
   "outputs": [],
   "source": [
    "import requests\n",
    "import json\n",
    "from IPython.display import Markdown"
   ]
  },
  {
   "cell_type": "code",
   "execution_count": 2,
   "id": "8aeec7d5-3668-4e69-811c-693e8911bcbd",
   "metadata": {},
   "outputs": [
    {
     "data": {
      "text/plain": [
       "'你好👋!我是人工智能助手 ChatGLM-6B,很高兴见到你,欢迎问我任何问题。'"
      ]
     },
     "execution_count": 2,
     "metadata": {},
     "output_type": "execute_result"
    }
   ],
   "source": [
    "def get_completion(prompt):\n",
    "    headers = {'Content-Type': 'application/json'}\n",
    "    data = {\"prompt\": prompt, \"history\": []}\n",
    "    response = requests.post(url='http://127.0.0.1:8000', headers=headers, data=json.dumps(data))\n",
    "    return response.json()['response']\n",
    "\n",
    "get_completion(\"你好\")"
   ]
  },
  {
   "cell_type": "markdown",
   "id": "71d3de85-c454-4701-bbec-959bfdb1d8d5",
   "metadata": {
    "tags": []
   },
   "source": [
    "# 单一文本概括Prompt实验"
   ]
  },
  {
   "cell_type": "markdown",
   "id": "c5086727-c4d6-48fe-8371-92ef00b26353",
   "metadata": {},
   "source": [
    "这里我们举了个商品评论的例子。对于电商平台来说，网站上往往存在着海量的商品评论，这些评论反映了所有客户的想法。如果我们拥有一个工具去概括这些海量、冗长的评论，便能够快速地浏览更多评论，洞悉客户的偏好，从而指导平台与商家提供更优质的服务。"
   ]
  },
  {
   "cell_type": "code",
   "execution_count": 3,
   "id": "e1ca74f1-67c1-4bba-a589-25db1e5aa515",
   "metadata": {},
   "outputs": [],
   "source": [
    "prod_review_zh = \"\"\"\n",
    "这个熊猫公仔是我给女儿的生日礼物，她很喜欢，去哪都带着。\n",
    "公仔很软，超级可爱，面部表情也很和善。但是相比于价钱来说，\n",
    "它有点小，我感觉在别的地方用同样的价钱能买到更大的。\n",
    "快递比预期提前了一天到货，所以在送给女儿之前，我自己玩了会。\n",
    "\"\"\""
   ]
  },
  {
   "cell_type": "markdown",
   "id": "72ceeb7f-c7ed-4872-aab3-a557ebd33783",
   "metadata": {
    "tags": []
   },
   "source": [
    "# 限制输出文本长度"
   ]
  },
  {
   "cell_type": "markdown",
   "id": "d40a90e1-929f-48eb-90a2-cc94448cf2d2",
   "metadata": {},
   "source": [
    "我们尝试限制文本长度为最多30词。 "
   ]
  },
  {
   "cell_type": "code",
   "execution_count": 5,
   "id": "eaa449fc-21fc-435e-9690-76be455a519e",
   "metadata": {},
   "outputs": [
    {
     "name": "stdout",
     "output_type": "stream",
     "text": [
      "这个熊猫公仔很适合女儿,软、可爱,面部表情友善。但相对于价格而言,它有点小。快递送到提前了一天,可以玩一下。\n"
     ]
    }
   ],
   "source": [
    "prompt = f\"\"\"\n",
    "你的任务是从电子商务网站上生成一个产品评论的简短摘要。\n",
    "\n",
    "请对三个反引号之间的评论文本进行概括，最多30个字。\n",
    "\n",
    "评论: ```{prod_review_zh}```\n",
    "\"\"\"\n",
    "\n",
    "response = get_completion(prompt)\n",
    "print(response)"
   ]
  },
  {
   "cell_type": "code",
   "execution_count": 6,
   "id": "94f94283-9452-4264-9e10-15265d5f385c",
   "metadata": {},
   "outputs": [
    {
     "data": {
      "text/plain": [
       "54"
      ]
     },
     "execution_count": 6,
     "metadata": {},
     "output_type": "execute_result"
    }
   ],
   "source": [
    "len(response)"
   ]
  },
  {
   "cell_type": "markdown",
   "id": "efa5b003-7b38-42e9-99ee-ff6e6e5197b7",
   "metadata": {},
   "source": [
    "注：实测chatglm无法理解词的数量，只能通过字的数量来稍加限制。 "
   ]
  },
  {
   "cell_type": "markdown",
   "id": "e92412df-9f9c-4730-bda3-18fa8b671d1a",
   "metadata": {},
   "source": [
    "# 关键角度侧重"
   ]
  },
  {
   "cell_type": "markdown",
   "id": "1643eb47-e07b-40ab-bee7-c29c31db1d5e",
   "metadata": {},
   "source": [
    "有时，针对不同的业务，我们对文本的侧重会有所不同。例如对于商品评论文本，物流会更关心运输时效，商家更加关心价格与商品质量，平台更关心整体服务体验。\n",
    "\n",
    "我们可以通过增加Prompt提示，来体现对于某个特定角度的侧重。"
   ]
  },
  {
   "cell_type": "markdown",
   "id": "a45296dc-bda1-4d18-9310-b3d947b96ae0",
   "metadata": {},
   "source": [
    "**侧重于运输**"
   ]
  },
  {
   "cell_type": "code",
   "execution_count": 8,
   "id": "a08c6909-7eb1-4913-8b42-e276b9e4fffd",
   "metadata": {},
   "outputs": [
    {
     "name": "stdout",
     "output_type": "stream",
     "text": [
      "评论: 送给女儿的生日礼物,她喜欢公仔,软可爱,但小,感觉在别的地方用同样的价钱能买到更大的。快递比预期提前一天到货,自己玩了会。\n"
     ]
    }
   ],
   "source": [
    "prompt = f\"\"\"\n",
    "你的任务是从电子商务网站上生成一个产品评论的简短摘要。\n",
    "\n",
    "请对三个反引号之间的评论文本进行概括，最多30个词汇，并且聚焦在产品运输上。\n",
    "\n",
    "评论: ```{prod_review_zh}```\n",
    "\"\"\"\n",
    "\n",
    "response = get_completion(prompt)\n",
    "print(response)"
   ]
  },
  {
   "cell_type": "markdown",
   "id": "e26d9083-c0e1-4e5b-b42d-acbf4fbdc59c",
   "metadata": {},
   "source": [
    "注：在chatgpt的回答中，**快递提前一天到货**放在了最前面。但chatglm的回答似乎更侧重于**用同样的价钱能买到最大的**"
   ]
  },
  {
   "cell_type": "markdown",
   "id": "a4cfb833-2399-41b2-b4c5-398bde360d25",
   "metadata": {},
   "source": [
    "**侧重于价格与质量**"
   ]
  },
  {
   "cell_type": "code",
   "execution_count": 11,
   "id": "169dbab0-eca6-44b9-be2e-115c2f008d75",
   "metadata": {},
   "outputs": [
    {
     "name": "stdout",
     "output_type": "stream",
     "text": [
      "评论: 给女儿的生日礼物,她喜欢公仔,软可爱,表情友善。但小,感觉在其他地方用同样的价钱能买到更大。快递比预期早一天到,自己玩了会。\n"
     ]
    }
   ],
   "source": [
    "prompt = f\"\"\"\n",
    "你的任务是从电子商务网站上生成一个产品评论的简短摘要。\n",
    "\n",
    "请对三个反引号之间的评论文本进行概括，最多30个词汇，并且聚焦在产品价格和质量上。\n",
    "\n",
    "评论: ```{prod_review_zh}```\n",
    "\"\"\"\n",
    "\n",
    "response = get_completion(prompt)\n",
    "print(response)"
   ]
  },
  {
   "cell_type": "markdown",
   "id": "88d9057c-1f4d-487e-a639-1f2feabb3fd5",
   "metadata": {},
   "source": [
    "注：emmmmmmm,怎么跟上个回答没啥区别。但chatgpt的回答就聚焦在**同样的价钱能买到更大的**"
   ]
  },
  {
   "cell_type": "markdown",
   "id": "37674035-94cd-40ba-94e1-5cc7a9d533e5",
   "metadata": {},
   "source": [
    "# 关键信息提取"
   ]
  },
  {
   "cell_type": "markdown",
   "id": "13771bbd-0064-4d0a-98cf-4f6c98a44f01",
   "metadata": {},
   "source": [
    "虽然我们通过添加关键角度侧重的Prompt，使得文本摘要更侧重于某一特定方面，但是可以发现，结果中也会保留一些其他信息，如价格与质量角度的概括中仍保留了“快递提前到货”的信息。有时这些信息是有帮助的，但如果我们只想要提取某一角度的信息，并过滤掉其他所有信息，则可以要求LLM进行“文本提取(Extract)”而非“文本概括(Summarize)”。"
   ]
  },
  {
   "cell_type": "code",
   "execution_count": 10,
   "id": "2f348e6b-da22-4e88-82f2-270698588872",
   "metadata": {},
   "outputs": [
    {
     "name": "stdout",
     "output_type": "stream",
     "text": [
      "产品评论: \n",
      "- 熊猫公仔作为生日礼物,女儿很喜欢。 \n",
      "- 公仔软,可爱,面部表情和善。 \n",
      "- 快递比预期提前了一天到货,但比预期小。 \n",
      "- 自己玩了会,但可以考虑在其他地方购买更大一些的公仔。\n"
     ]
    }
   ],
   "source": [
    "prompt = f\"\"\"\n",
    "你的任务是从电子商务网站上的产品评论中提取相关信息。\n",
    "\n",
    "请从以下三个反引号之间的评论文本中提取产品运输相关的信息，最多30个词汇。\n",
    "\n",
    "评论: ```{prod_review_zh}```\n",
    "\"\"\"\n",
    "\n",
    "response = get_completion(prompt)\n",
    "print(response)"
   ]
  },
  {
   "cell_type": "markdown",
   "id": "5959e0bb-f15f-48ae-b3c7-3f2947e812dd",
   "metadata": {},
   "source": [
    "注：完全没有例会prompt中**产品运输**的重点信息"
   ]
  },
  {
   "cell_type": "markdown",
   "id": "0796be33-0655-49f3-a7e9-1e82a7371ef9",
   "metadata": {},
   "source": [
    "# 总结"
   ]
  },
  {
   "cell_type": "markdown",
   "id": "b24d1107-e885-481a-b8b5-9275409de2ac",
   "metadata": {},
   "source": [
    "还得是chatgpt，chatglm被薄纱"
   ]
  }
 ],
 "metadata": {
  "kernelspec": {
   "display_name": "Python 3",
   "language": "python",
   "name": "python3"
  },
  "language_info": {
   "codemirror_mode": {
    "name": "ipython",
    "version": 3
   },
   "file_extension": ".py",
   "mimetype": "text/x-python",
   "name": "python",
   "nbconvert_exporter": "python",
   "pygments_lexer": "ipython3",
   "version": "3.8.8"
  }
 },
 "nbformat": 4,
 "nbformat_minor": 5
}
